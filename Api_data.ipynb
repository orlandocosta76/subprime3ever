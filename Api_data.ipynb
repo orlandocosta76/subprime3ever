{
 "cells": [
  {
   "cell_type": "code",
   "execution_count": 2,
   "metadata": {},
   "outputs": [],
   "source": [
    "import hashlib # for grading purposes\n",
    "import math\n",
    "import numpy as np\n",
    "import pandas as pd\n",
    "import requests\n",
    "import sqlalchemy\n",
    "\n",
    "from bs4 import BeautifulSoup"
   ]
  },
  {
   "cell_type": "markdown",
   "metadata": {},
   "source": [
    "# Authentication"
   ]
  },
  {
   "cell_type": "code",
   "execution_count": 12,
   "metadata": {},
   "outputs": [
    {
     "data": {
      "text/plain": [
       "{'token': 'fe0bfd98e3920dd027bd4ca2f796b322e6f95c35'}"
      ]
     },
     "execution_count": 12,
     "metadata": {},
     "output_type": "execute_result"
    }
   ],
   "source": [
    "base_url = 'https://api.hackathon-03.batch2.lisbondatascience.org/'\n",
    "auth_req = base_url+'api/token-auth'\n",
    "response = requests.get(auth_req,params={'username':'ldsa_student'})\n",
    "token = response.json()\n",
    "token"
   ]
  },
  {
   "cell_type": "markdown",
   "metadata": {},
   "source": [
    "# Get ALL THE DATA!"
   ]
  },
  {
   "cell_type": "code",
   "execution_count": 54,
   "metadata": {},
   "outputs": [
    {
     "ename": "KeyError",
     "evalue": "'results'",
     "output_type": "error",
     "traceback": [
      "\u001b[1;31m---------------------------------------------------------------------------\u001b[0m",
      "\u001b[1;31mKeyError\u001b[0m                                  Traceback (most recent call last)",
      "\u001b[1;32m<ipython-input-54-32760d18d700>\u001b[0m in \u001b[0;36m<module>\u001b[1;34m()\u001b[0m\n\u001b[0;32m      8\u001b[0m     \u001b[0mquery_resp\u001b[0m \u001b[1;33m=\u001b[0m \u001b[0mrequests\u001b[0m\u001b[1;33m.\u001b[0m\u001b[0mget\u001b[0m\u001b[1;33m(\u001b[0m\u001b[0mquery\u001b[0m\u001b[1;33m,\u001b[0m \u001b[0mheaders\u001b[0m\u001b[1;33m=\u001b[0m\u001b[0mheaders\u001b[0m\u001b[1;33m)\u001b[0m\u001b[1;33m\u001b[0m\u001b[0m\n\u001b[0;32m      9\u001b[0m     \u001b[0mquery_result\u001b[0m \u001b[1;33m=\u001b[0m \u001b[0mquery_resp\u001b[0m\u001b[1;33m.\u001b[0m\u001b[0mjson\u001b[0m\u001b[1;33m(\u001b[0m\u001b[1;33m)\u001b[0m\u001b[1;33m\u001b[0m\u001b[0m\n\u001b[1;32m---> 10\u001b[1;33m     \u001b[0mpage_df\u001b[0m\u001b[1;33m=\u001b[0m\u001b[0mpd\u001b[0m\u001b[1;33m.\u001b[0m\u001b[0mDataFrame\u001b[0m\u001b[1;33m(\u001b[0m\u001b[0mquery_result\u001b[0m\u001b[1;33m[\u001b[0m\u001b[1;34m'results'\u001b[0m\u001b[1;33m]\u001b[0m\u001b[1;33m)\u001b[0m\u001b[1;33m\u001b[0m\u001b[0m\n\u001b[0m\u001b[0;32m     11\u001b[0m     \u001b[1;32mif\u001b[0m \u001b[0mpage\u001b[0m\u001b[1;33m==\u001b[0m\u001b[1;36m1\u001b[0m\u001b[1;33m:\u001b[0m\u001b[1;33m\u001b[0m\u001b[0m\n\u001b[0;32m     12\u001b[0m         \u001b[0mtotal\u001b[0m\u001b[1;33m=\u001b[0m\u001b[0mpd\u001b[0m\u001b[1;33m.\u001b[0m\u001b[0mDataFrame\u001b[0m\u001b[1;33m(\u001b[0m\u001b[0mpage_df\u001b[0m\u001b[1;33m)\u001b[0m\u001b[1;33m\u001b[0m\u001b[0m\n",
      "\u001b[1;31mKeyError\u001b[0m: 'results'"
     ]
    }
   ],
   "source": [
    "headers={'Authorization':'token '+ token['token']}\n",
    "status=200\n",
    "page=1\n",
    "while status==200:\n",
    "    query = base_url+'api/data?page='+str(page)+'&page_size=2000'\n",
    "    query_resp = requests.get(query, headers=headers)\n",
    "    query_result = query_resp.json()\n",
    "    if query_resp.status_code ==200:\n",
    "        page_df=pd.DataFrame(query_result['results'])\n",
    "        if page==1:\n",
    "            total=pd.DataFrame(page_df)\n",
    "        else:\n",
    "            total=total.append(page_df)\n",
    "    status=query_resp.status_code\n",
    "    page+=1\n",
    "    \n"
   ]
  },
  {
   "cell_type": "markdown",
   "metadata": {},
   "source": [
    "### Export"
   ]
  },
  {
   "cell_type": "code",
   "execution_count": 70,
   "metadata": {},
   "outputs": [],
   "source": [
    "total.to_csv('api_data.csv')"
   ]
  },
  {
   "cell_type": "markdown",
   "metadata": {},
   "source": [
    "# wrangling"
   ]
  },
  {
   "cell_type": "code",
   "execution_count": 69,
   "metadata": {},
   "outputs": [
    {
     "data": {
      "text/html": [
       "<div>\n",
       "<style scoped>\n",
       "    .dataframe tbody tr th:only-of-type {\n",
       "        vertical-align: middle;\n",
       "    }\n",
       "\n",
       "    .dataframe tbody tr th {\n",
       "        vertical-align: top;\n",
       "    }\n",
       "\n",
       "    .dataframe thead th {\n",
       "        text-align: right;\n",
       "    }\n",
       "</style>\n",
       "<table border=\"1\" class=\"dataframe\">\n",
       "  <thead>\n",
       "    <tr style=\"text-align: right;\">\n",
       "      <th></th>\n",
       "      <th>amt_req_credit_bureau_qrt</th>\n",
       "      <th>apartments_avg</th>\n",
       "      <th>days_birth</th>\n",
       "      <th>emergencystate_mode</th>\n",
       "      <th>flag_document_12</th>\n",
       "      <th>flag_document_13</th>\n",
       "      <th>flag_document_9</th>\n",
       "      <th>name_education_type</th>\n",
       "      <th>name_income_type</th>\n",
       "      <th>obs_30_cnt_social_circle</th>\n",
       "      <th>sk_id_curr</th>\n",
       "    </tr>\n",
       "  </thead>\n",
       "  <tbody>\n",
       "    <tr>\n",
       "      <th>307</th>\n",
       "      <td>0.0</td>\n",
       "      <td>0.08040</td>\n",
       "      <td>-19517</td>\n",
       "      <td>Yes</td>\n",
       "      <td>False</td>\n",
       "      <td>False</td>\n",
       "      <td>False</td>\n",
       "      <td>Secondary / secondary special</td>\n",
       "      <td>Working</td>\n",
       "      <td>0</td>\n",
       "      <td>101065</td>\n",
       "    </tr>\n",
       "    <tr>\n",
       "      <th>368</th>\n",
       "      <td>1.0</td>\n",
       "      <td>0.01240</td>\n",
       "      <td>-15009</td>\n",
       "      <td>Yes</td>\n",
       "      <td>False</td>\n",
       "      <td>False</td>\n",
       "      <td>False</td>\n",
       "      <td>Secondary / secondary special</td>\n",
       "      <td>Commercial associate</td>\n",
       "      <td>1</td>\n",
       "      <td>101342</td>\n",
       "    </tr>\n",
       "    <tr>\n",
       "      <th>383</th>\n",
       "      <td>0.0</td>\n",
       "      <td>0.05360</td>\n",
       "      <td>-24305</td>\n",
       "      <td>Yes</td>\n",
       "      <td>False</td>\n",
       "      <td>False</td>\n",
       "      <td>False</td>\n",
       "      <td>Higher education</td>\n",
       "      <td>Pensioner</td>\n",
       "      <td>0</td>\n",
       "      <td>101413</td>\n",
       "    </tr>\n",
       "    <tr>\n",
       "      <th>525</th>\n",
       "      <td>0.0</td>\n",
       "      <td>0.00820</td>\n",
       "      <td>-22399</td>\n",
       "      <td>Yes</td>\n",
       "      <td>False</td>\n",
       "      <td>False</td>\n",
       "      <td>False</td>\n",
       "      <td>Secondary / secondary special</td>\n",
       "      <td>Commercial associate</td>\n",
       "      <td>0</td>\n",
       "      <td>101919</td>\n",
       "    </tr>\n",
       "    <tr>\n",
       "      <th>688</th>\n",
       "      <td>1.0</td>\n",
       "      <td>0.00210</td>\n",
       "      <td>-18413</td>\n",
       "      <td>Yes</td>\n",
       "      <td>False</td>\n",
       "      <td>False</td>\n",
       "      <td>False</td>\n",
       "      <td>Secondary / secondary special</td>\n",
       "      <td>Working</td>\n",
       "      <td>0</td>\n",
       "      <td>102526</td>\n",
       "    </tr>\n",
       "  </tbody>\n",
       "</table>\n",
       "</div>"
      ],
      "text/plain": [
       "     amt_req_credit_bureau_qrt apartments_avg  days_birth emergencystate_mode  \\\n",
       "307                        0.0        0.08040      -19517                 Yes   \n",
       "368                        1.0        0.01240      -15009                 Yes   \n",
       "383                        0.0        0.05360      -24305                 Yes   \n",
       "525                        0.0        0.00820      -22399                 Yes   \n",
       "688                        1.0        0.00210      -18413                 Yes   \n",
       "\n",
       "     flag_document_12  flag_document_13  flag_document_9  \\\n",
       "307             False             False            False   \n",
       "368             False             False            False   \n",
       "383             False             False            False   \n",
       "525             False             False            False   \n",
       "688             False             False            False   \n",
       "\n",
       "               name_education_type      name_income_type  \\\n",
       "307  Secondary / secondary special               Working   \n",
       "368  Secondary / secondary special  Commercial associate   \n",
       "383               Higher education             Pensioner   \n",
       "525  Secondary / secondary special  Commercial associate   \n",
       "688  Secondary / secondary special               Working   \n",
       "\n",
       "     obs_30_cnt_social_circle  sk_id_curr  \n",
       "307                         0      101065  \n",
       "368                         1      101342  \n",
       "383                         0      101413  \n",
       "525                         0      101919  \n",
       "688                         0      102526  "
      ]
     },
     "execution_count": 69,
     "metadata": {},
     "output_type": "execute_result"
    }
   ],
   "source": [
    "mask=total['emergencystate_mode']=='Yes'\n",
    "total.loc[mask,:].head()"
   ]
  },
  {
   "cell_type": "code",
   "execution_count": 49,
   "metadata": {},
   "outputs": [
    {
     "data": {
      "text/plain": [
       "{'amt_req_credit_bureau_qrt': 1,\n",
       " 'apartments_avg': None,\n",
       " 'days_birth': -17255,\n",
       " 'emergencystate_mode': '',\n",
       " 'flag_document_12': False,\n",
       " 'flag_document_13': False,\n",
       " 'flag_document_9': False,\n",
       " 'name_education_type': 'Secondary / secondary special',\n",
       " 'name_income_type': 'Working',\n",
       " 'obs_30_cnt_social_circle': 0,\n",
       " 'sk_id_curr': 143241}"
      ]
     },
     "execution_count": 49,
     "metadata": {},
     "output_type": "execute_result"
    }
   ],
   "source": []
  }
 ],
 "metadata": {
  "kernelspec": {
   "display_name": "Python 3",
   "language": "python",
   "name": "python3"
  },
  "language_info": {
   "codemirror_mode": {
    "name": "ipython",
    "version": 3
   },
   "file_extension": ".py",
   "mimetype": "text/x-python",
   "name": "python",
   "nbconvert_exporter": "python",
   "pygments_lexer": "ipython3",
   "version": "3.5.5"
  }
 },
 "nbformat": 4,
 "nbformat_minor": 2
}
