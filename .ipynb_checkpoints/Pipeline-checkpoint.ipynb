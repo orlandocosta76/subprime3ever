{
 "cells": [
  {
   "cell_type": "markdown",
   "metadata": {},
   "source": [
    "## Imports"
   ]
  },
  {
   "cell_type": "code",
   "execution_count": 276,
   "metadata": {},
   "outputs": [],
   "source": [
    "import math\n",
    "import numpy as np\n",
    "import pandas as pd\n",
    "import requests\n",
    "import sqlalchemy\n",
    "\n",
    "from bs4 import BeautifulSoup\n",
    "\n",
    "\n",
    "import os\n",
    "from sklearn.preprocessing import  Imputer\n",
    "from sklearn.base import BaseEstimator, TransformerMixin\n",
    "from sklearn.datasets import load_boston\n",
    "from sklearn.linear_model import LinearRegression\n",
    "from sklearn.linear_model import LogisticRegression\n",
    "from sklearn.metrics import mean_squared_error, mean_absolute_error\n",
    "from sklearn.model_selection import train_test_split\n",
    "from sklearn.pipeline import Pipeline\n",
    "from sklearn.preprocessing import MinMaxScaler\n",
    "from sklearn.ensemble import RandomForestClassifier\n",
    "from sklearn.metrics import roc_auc_score\n",
    "import sklearn"
   ]
  },
  {
   "cell_type": "markdown",
   "metadata": {},
   "source": [
    "## Loading Data"
   ]
  },
  {
   "cell_type": "code",
   "execution_count": 167,
   "metadata": {},
   "outputs": [],
   "source": [
    "sql_data=pd.read_csv('data/database/credit_risk_features.csv').drop(columns='Unnamed: 0')\n",
    "api_data=pd.read_csv('data/api/api_data.csv').drop(columns='Unnamed: 0')\n",
    "train = pd.read_csv('data/database/train.csv').drop(columns='Unnamed: 0')\n",
    "files_data = pd.read_csv('data_files.csv').drop(columns='Unnamed: 0')\n",
    "api_data.columns = [x.upper() for x in api_data.columns]"
   ]
  },
  {
   "cell_type": "code",
   "execution_count": 170,
   "metadata": {},
   "outputs": [],
   "source": [
    "total = pd.merge(sql_data, api_data, on='SK_ID_CURR')\n",
    "total= pd.merge(total, files_data, on='SK_ID_CURR')\n",
    "total2= pd.merge(total,train, on='SK_ID_CURR', how='inner')\n",
    "X= total2.drop(columns='TARGET')\n",
    "Y=train.set_index('SK_ID_CURR')"
   ]
  },
  {
   "cell_type": "code",
   "execution_count": 201,
   "metadata": {},
   "outputs": [
    {
     "data": {
      "text/plain": [
       "(100000, 102)"
      ]
     },
     "execution_count": 201,
     "metadata": {},
     "output_type": "execute_result"
    }
   ],
   "source": [
    "total.shape"
   ]
  },
  {
   "cell_type": "markdown",
   "metadata": {},
   "source": [
    "## Data Prep (functions)"
   ]
  },
  {
   "cell_type": "code",
   "execution_count": 107,
   "metadata": {},
   "outputs": [],
   "source": [
    "def drop_cols(df,cols):\n",
    "    df=df.copy()\n",
    "    df= df.set_index('SK_ID_CURR')\n",
    "    return df.drop(columns=cols)\n",
    "\n",
    "def fill_NaN(df):\n",
    "    df = df.copy()\n",
    "    df.loc[:,['BASEMENTAREA_AVG','OWN_CAR_AGE']] = df.loc[:,['BASEMENTAREA_AVG','OWN_CAR_AGE']].fillna()\n",
    "    df['EMERGENCYSTATE_MODE'] = df['EMERGENCYSTATE_MODE'].fillna('No')\n",
    "    return df\n",
    "\n",
    "def convert_str_to_cat(df):\n",
    "\n",
    "    df = df.copy()\n",
    "    str_cols = df.dtypes[df.dtypes == object].index.tolist()\n",
    "    for col_name in str_cols:\n",
    "        df[col_name]  = df[col_name].astype('category')\n",
    "\n",
    "    return df\n",
    "\n",
    "def convert_cat_to_dummies(df):\n",
    "    categorical_features = df.select_dtypes(include='category').columns\n",
    "    return pd.get_dummies(df, columns=categorical_features, drop_first=False)\n",
    "\n",
    "def transform_categorical(df):\n",
    "    df = convert_str_to_cat(df)\n",
    "    df = convert_cat_to_dummies(df)\n",
    "    return df\n",
    "\n",
    "\n"
   ]
  },
  {
   "cell_type": "code",
   "execution_count": 277,
   "metadata": {},
   "outputs": [],
   "source": [
    "class adapter(BaseEstimator, TransformerMixin):\n",
    "\n",
    "    def __init__ (self, columns='all'):\n",
    "        self.columns=columns\n",
    "        \n",
    "    def fit(self,X=None,y=None):\n",
    "        return self\n",
    "    \n",
    "    def transform(self,X,y=None):\n",
    "        X=X.copy()\n",
    "        X=drop_cols(X,self.columns)\n",
    "        #X=fill_NaN(X)\n",
    "        X=transform_categorical(X)\n",
    "        return X"
   ]
  },
  {
   "cell_type": "markdown",
   "metadata": {},
   "source": [
    "## Model1"
   ]
  },
  {
   "cell_type": "code",
   "execution_count": 278,
   "metadata": {},
   "outputs": [],
   "source": [
    "a=adapter(columns_drop)"
   ]
  },
  {
   "cell_type": "code",
   "execution_count": 279,
   "metadata": {},
   "outputs": [],
   "source": [
    "columns_drop= ['FLAG_EMAIL']\n",
    "\n",
    "X_train, X_test ,y_train, y_test = train_test_split(a.transform(X),Y, random_state=0)"
   ]
  },
  {
   "cell_type": "code",
   "execution_count": 288,
   "metadata": {},
   "outputs": [],
   "source": [
    "\n",
    "pipeline = Pipeline([('fill_na', Imputer(strategy='median')),\n",
    "                     ('model',LogisticRegression())])"
   ]
  },
  {
   "cell_type": "code",
   "execution_count": 284,
   "metadata": {},
   "outputs": [
    {
     "data": {
      "text/plain": [
       "Pipeline(memory=None,\n",
       "     steps=[('fill_na', Imputer(axis=0, copy=True, missing_values='NaN', strategy='median', verbose=0)), ('model', RandomForestClassifier(bootstrap=True, class_weight=None, criterion='gini',\n",
       "            max_depth=None, max_features='auto', max_leaf_nodes=None,\n",
       "            min_impurity_decrease=0.0, min_i...n_jobs=1,\n",
       "            oob_score=False, random_state=None, verbose=0,\n",
       "            warm_start=False))])"
      ]
     },
     "execution_count": 284,
     "metadata": {},
     "output_type": "execute_result"
    }
   ],
   "source": [
    "pipeline.fit(X_train.fillna(0) ,y_train['TARGET'].values)"
   ]
  },
  {
   "cell_type": "code",
   "execution_count": 285,
   "metadata": {},
   "outputs": [],
   "source": [
    "y_pred=pipeline.predict_proba(X_test)"
   ]
  },
  {
   "cell_type": "code",
   "execution_count": 286,
   "metadata": {},
   "outputs": [
    {
     "data": {
      "text/plain": [
       "array([[1. , 0. ],\n",
       "       [0.9, 0.1],\n",
       "       [0.9, 0.1],\n",
       "       ...,\n",
       "       [1. , 0. ],\n",
       "       [1. , 0. ],\n",
       "       [0.3, 0.7]])"
      ]
     },
     "execution_count": 286,
     "metadata": {},
     "output_type": "execute_result"
    }
   ],
   "source": [
    "y_pred"
   ]
  },
  {
   "cell_type": "code",
   "execution_count": 287,
   "metadata": {},
   "outputs": [
    {
     "data": {
      "text/plain": [
       "0.915328707934843"
      ]
     },
     "execution_count": 287,
     "metadata": {},
     "output_type": "execute_result"
    }
   ],
   "source": [
    "score= roc_auc_score(y_test, y_pred[:,1])\n",
    "score"
   ]
  },
  {
   "cell_type": "markdown",
   "metadata": {},
   "source": [
    "# Final"
   ]
  },
  {
   "cell_type": "code",
   "execution_count": 289,
   "metadata": {},
   "outputs": [
    {
     "data": {
      "text/plain": [
       "Pipeline(memory=None,\n",
       "     steps=[('fill_na', Imputer(axis=0, copy=True, missing_values='NaN', strategy='median', verbose=0)), ('model', LogisticRegression(C=1.0, class_weight=None, dual=False, fit_intercept=True,\n",
       "          intercept_scaling=1, max_iter=100, multi_class='ovr', n_jobs=1,\n",
       "          penalty='l2', random_state=None, solver='liblinear', tol=0.0001,\n",
       "          verbose=0, warm_start=False))])"
      ]
     },
     "execution_count": 289,
     "metadata": {},
     "output_type": "execute_result"
    }
   ],
   "source": [
    "pipeline.fit(a.transform(X).drop(columns=['NAME_INCOME_TYPE_Maternity leave', 'ORGANIZATION_TYPE_Industry: type 8']).sort_index(axis=1),Y['TARGET'].values)"
   ]
  },
  {
   "cell_type": "code",
   "execution_count": 290,
   "metadata": {},
   "outputs": [],
   "source": [
    "target = pd.read_csv('data/database/target.csv').drop(columns='Unnamed: 0')\n",
    "Xtarget = pd.merge(total,target, on='SK_ID_CURR', how='inner').drop(columns='TARGET')"
   ]
  },
  {
   "cell_type": "code",
   "execution_count": null,
   "metadata": {},
   "outputs": [],
   "source": []
  },
  {
   "cell_type": "code",
   "execution_count": 291,
   "metadata": {},
   "outputs": [],
   "source": [
    "X_final=a.transform(Xtarget).sort_index(axis=1)"
   ]
  },
  {
   "cell_type": "code",
   "execution_count": 292,
   "metadata": {},
   "outputs": [
    {
     "data": {
      "text/plain": [
       "(25000, 211)"
      ]
     },
     "execution_count": 292,
     "metadata": {},
     "output_type": "execute_result"
    }
   ],
   "source": [
    "X_final.shape"
   ]
  },
  {
   "cell_type": "code",
   "execution_count": 296,
   "metadata": {},
   "outputs": [],
   "source": [
    "y_traget=pipeline.predict_proba(X_final)"
   ]
  },
  {
   "cell_type": "code",
   "execution_count": 297,
   "metadata": {},
   "outputs": [],
   "source": [
    "\n",
    "export=pd.concat([X_final.reset_index()['SK_ID_CURR'], pd.Series(y_traget[:,1])],axis=1)\n",
    "export.columns= ['SK_ID_CURR', 'TARGET']"
   ]
  },
  {
   "cell_type": "code",
   "execution_count": 299,
   "metadata": {},
   "outputs": [],
   "source": [
    "export.to_csv('5_pred.csv',index=False)"
   ]
  },
  {
   "cell_type": "code",
   "execution_count": 298,
   "metadata": {},
   "outputs": [
    {
     "data": {
      "text/plain": [
       "count    25000.000000\n",
       "mean         0.089902\n",
       "std          0.047210\n",
       "min          0.000455\n",
       "25%          0.054115\n",
       "50%          0.079730\n",
       "75%          0.118074\n",
       "max          0.294113\n",
       "Name: TARGET, dtype: float64"
      ]
     },
     "execution_count": 298,
     "metadata": {},
     "output_type": "execute_result"
    }
   ],
   "source": [
    "export.TARGET.describe()"
   ]
  },
  {
   "cell_type": "code",
   "execution_count": 264,
   "metadata": {},
   "outputs": [
    {
     "data": {
      "text/plain": [
       "count    75000.000000\n",
       "mean         0.079880\n",
       "std          0.271109\n",
       "min          0.000000\n",
       "25%          0.000000\n",
       "50%          0.000000\n",
       "75%          0.000000\n",
       "max          1.000000\n",
       "Name: TARGET, dtype: float64"
      ]
     },
     "execution_count": 264,
     "metadata": {},
     "output_type": "execute_result"
    }
   ],
   "source": []
  },
  {
   "cell_type": "code",
   "execution_count": 225,
   "metadata": {},
   "outputs": [
    {
     "data": {
      "text/plain": [
       "['NAME_INCOME_TYPE_Maternity leave', 'ORGANIZATION_TYPE_Industry: type 8']"
      ]
     },
     "execution_count": 225,
     "metadata": {},
     "output_type": "execute_result"
    }
   ],
   "source": [
    "[x for x in  X_train.fillna(0).columns  if x not in X_final.columns]"
   ]
  },
  {
   "cell_type": "code",
   "execution_count": 219,
   "metadata": {},
   "outputs": [
    {
     "data": {
      "text/plain": [
       "SK_ID_CURR\n",
       "100004   NaN\n",
       "100012   NaN\n",
       "100034   NaN\n",
       "100043   NaN\n",
       "100055   NaN\n",
       "100058   NaN\n",
       "100063   NaN\n",
       "100088   NaN\n",
       "100112   NaN\n",
       "100126   NaN\n",
       "100134   NaN\n",
       "100153   NaN\n",
       "100157   NaN\n",
       "100161   NaN\n",
       "100175   NaN\n",
       "100178   NaN\n",
       "100186   NaN\n",
       "100188   NaN\n",
       "100205   NaN\n",
       "100208   NaN\n",
       "100215   NaN\n",
       "100217   NaN\n",
       "100229   NaN\n",
       "100242   NaN\n",
       "100261   NaN\n",
       "100272   NaN\n",
       "100290   NaN\n",
       "100350   NaN\n",
       "100369   NaN\n",
       "100371   NaN\n",
       "          ..\n",
       "455929   NaN\n",
       "455931   NaN\n",
       "455932   NaN\n",
       "455941   NaN\n",
       "455944   NaN\n",
       "455946   NaN\n",
       "455947   NaN\n",
       "455979   NaN\n",
       "456020   NaN\n",
       "456042   NaN\n",
       "456050   NaN\n",
       "456075   NaN\n",
       "456106   NaN\n",
       "456112   NaN\n",
       "456113   NaN\n",
       "456150   NaN\n",
       "456162   NaN\n",
       "456172   NaN\n",
       "456179   NaN\n",
       "456184   NaN\n",
       "456207   NaN\n",
       "456210   NaN\n",
       "456215   NaN\n",
       "456227   NaN\n",
       "456234   NaN\n",
       "456236   NaN\n",
       "456237   NaN\n",
       "456242   NaN\n",
       "456246   NaN\n",
       "456252   NaN\n",
       "Name: TARGET, Length: 25000, dtype: float64"
      ]
     },
     "execution_count": 219,
     "metadata": {},
     "output_type": "execute_result"
    }
   ],
   "source": []
  }
 ],
 "metadata": {
  "kernelspec": {
   "display_name": "Python 3",
   "language": "python",
   "name": "python3"
  },
  "language_info": {
   "codemirror_mode": {
    "name": "ipython",
    "version": 3
   },
   "file_extension": ".py",
   "mimetype": "text/x-python",
   "name": "python",
   "nbconvert_exporter": "python",
   "pygments_lexer": "ipython3",
   "version": "3.5.5"
  }
 },
 "nbformat": 4,
 "nbformat_minor": 2
}
